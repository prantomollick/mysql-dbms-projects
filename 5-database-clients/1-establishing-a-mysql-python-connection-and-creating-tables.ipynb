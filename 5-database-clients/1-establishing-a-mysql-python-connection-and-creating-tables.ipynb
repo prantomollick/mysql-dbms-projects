{
 "cells": [
  {
   "cell_type": "code",
   "execution_count": 13,
   "id": "2eafef0b-bfd9-4ad9-8d01-ade0c1630033",
   "metadata": {},
   "outputs": [
    {
     "name": "stdout",
     "output_type": "stream",
     "text": [
      "Requirement already satisfied: mysql-connector-python in e:\\laragon-wamp\\laragon\\bin\\python\\python-3.10\\lib\\site-packages (9.1.0)\n"
     ]
    }
   ],
   "source": [
    "!pip install mysql-connector-python"
   ]
  },
  {
   "cell_type": "code",
   "execution_count": 14,
   "id": "d52f1283-b11b-4e43-acf9-21ccd8467dcb",
   "metadata": {},
   "outputs": [],
   "source": [
    "import mysql.connector as connector"
   ]
  },
  {
   "cell_type": "code",
   "execution_count": 15,
   "id": "d39ade29-e571-4a61-9fa6-3ecce6a81b90",
   "metadata": {},
   "outputs": [],
   "source": [
    "connection = connector.connect(user=\"root\", password=\"root\")"
   ]
  },
  {
   "cell_type": "code",
   "execution_count": 16,
   "id": "69b1d7ca-048e-4c3f-b249-53164736b280",
   "metadata": {},
   "outputs": [],
   "source": [
    "cursor = connection.cursor()"
   ]
  },
  {
   "cell_type": "code",
   "execution_count": 17,
   "id": "ba55dd21-b97b-460d-a3e7-754fb89e6519",
   "metadata": {},
   "outputs": [],
   "source": [
    "create_database_query = \"\"\"CREATE DATABASE little_lemon\"\"\""
   ]
  },
  {
   "cell_type": "code",
   "execution_count": 18,
   "id": "6df9d8f1-912c-4541-8fe7-57deeeba0525",
   "metadata": {},
   "outputs": [],
   "source": [
    "cursor.execute(create_database_query)"
   ]
  },
  {
   "cell_type": "code",
   "execution_count": 19,
   "id": "210c6d23-7efa-4187-aeea-fc0ed44ea50f",
   "metadata": {},
   "outputs": [],
   "source": [
    "use_database_query = \"\"\"USE little_lemon\"\"\""
   ]
  },
  {
   "cell_type": "code",
   "execution_count": 20,
   "id": "98397aa4-0ac1-4f7d-b792-5726689f544e",
   "metadata": {},
   "outputs": [],
   "source": [
    "cursor.execute(use_database_query)"
   ]
  },
  {
   "cell_type": "code",
   "execution_count": 21,
   "id": "a44dcac1-0950-431d-8387-90d7400ba50f",
   "metadata": {},
   "outputs": [],
   "source": [
    "create_menuitem_table = \"\"\"\n",
    "CREATE TABLE MenuItems(\n",
    "ItemID INT AUTO_INCREMENT,\n",
    "Name VARCHAR(200),\n",
    "Type VARCHAR(200),\n",
    "Price INT, \n",
    "PRIMARY KEY(ItemID)\n",
    ")\n",
    "\"\"\""
   ]
  },
  {
   "cell_type": "code",
   "execution_count": 22,
   "id": "e23d2802-3ad8-4ff1-a192-bd71eaa29c7e",
   "metadata": {},
   "outputs": [],
   "source": [
    "cursor.execute(create_menuitem_table)"
   ]
  },
  {
   "cell_type": "code",
   "execution_count": null,
   "id": "46f1c4f2",
   "metadata": {},
   "outputs": [],
   "source": []
  }
 ],
 "metadata": {
  "kernelspec": {
   "display_name": "Python 3 (ipykernel)",
   "language": "python",
   "name": "python3"
  }
 },
 "nbformat": 4,
 "nbformat_minor": 5
}
